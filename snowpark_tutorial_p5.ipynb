{
 "cells": [
  {
   "cell_type": "code",
   "execution_count": 1,
   "metadata": {},
   "outputs": [
    {
     "name": "stdout",
     "output_type": "stream",
     "text": [
      "Intel MKL WARNING: Support of Intel(R) Streaming SIMD Extensions 4.2 (Intel(R) SSE4.2) enabled only processors has been deprecated. Intel oneAPI Math Kernel Library 2025.0 will require Intel(R) Advanced Vector Extensions (Intel(R) AVX) instructions.\n",
      "Intel MKL WARNING: Support of Intel(R) Streaming SIMD Extensions 4.2 (Intel(R) SSE4.2) enabled only processors has been deprecated. Intel oneAPI Math Kernel Library 2025.0 will require Intel(R) Advanced Vector Extensions (Intel(R) AVX) instructions.\n"
     ]
    }
   ],
   "source": [
    "import os\n",
    "import json\n",
    "import pandas as pd\n",
    "import xgboost as xgb\n",
    "import configparser\n",
    "from snowflake.snowpark import Session\n",
    "from copy import copy\n",
    "from snowflake.snowpark import Row\n",
    "from snowflake.snowpark.functions import col, lit, sql_expr, get, get_path, udf, udtf, table_function, sproc\n",
    "from snowflake.snowpark.types import StructType, StructField, StringType, IntegerType, DecimalType, LongType\n",
    "from snowflake.snowpark.exceptions import SnowparkJoinException, SnowparkSQLException\n",
    "from snowflake.snowpark.files import SnowflakeFile\n",
    "\n",
    "# Read snowflake credentials securely\n",
    "config = configparser.ConfigParser()\n",
    "config.read('credentials.cfg')\n",
    "\n",
    "# Create a Python dictionary (dict) containing the names and values of the parameters for connecting to Snowflake.\n",
    "#connection_parameters = dict(\n",
    "#   account   =  config['SNOWPARKAZ']['SNOWFLAKE_ACCOUNT'],\n",
    "#   user      =  config['SNOWPARKAZ']['SNOWFLAKE_USER'],\n",
    "#   password  =  config['SNOWPARKAZ']['SNOWFLAKE_PASSWORD'],\n",
    "#   role      =  config['SNOWPARKAZ']['SNOWFLAKE_ROLE'],  # optional\n",
    "#   warehouse =  config['SNOWPARKAZ']['SNOWFLAKE_WAREHOUSE'],  # optional\n",
    "#   database  =  config['SNOWPARKAZ']['SNOWFLAKE_DATABASE'],  # optional\n",
    "#   schema    =  config['SNOWPARKAZ']['SNOWFLAKE_SCHEMA'],  # optional\n",
    "#)\n",
    "\n",
    "connection_parameters = dict(\n",
    "   account   =  config['SNOWPARKAWS']['SNOWFLAKE_ACCOUNT'],\n",
    "   user      =  config['SNOWPARKAWS']['SNOWFLAKE_USER'],\n",
    "   password  =  config['SNOWPARKAWS']['SNOWFLAKE_PASSWORD'],\n",
    "   role      =  config['SNOWPARKAWS']['SNOWFLAKE_ROLE'],  # optional\n",
    "   warehouse =  config['SNOWPARKAWS']['SNOWFLAKE_WAREHOUSE'],  # optional\n",
    "   database  =  config['SNOWPARKAWS']['SNOWFLAKE_DATABASE'],  # optional\n",
    "   schema    =  config['SNOWPARKAWS']['SNOWFLAKE_SCHEMA'],  # optional\n",
    ")\n",
    "\n",
    "# Pass this dictionary to the Session.builder.configs method to return a builder object that has these connection parameters.\n",
    "# Call the create method of the builder to establish the session.\n",
    "session = Session.builder.configs(connection_parameters).create()"
   ]
  },
  {
   "cell_type": "code",
   "execution_count": 2,
   "metadata": {},
   "outputs": [
    {
     "ename": "AttributeError",
     "evalue": "'Session' object has no attribute 'add_packges'",
     "output_type": "error",
     "traceback": [
      "\u001b[0;31m---------------------------------------------------------------------------\u001b[0m",
      "\u001b[0;31mAttributeError\u001b[0m                            Traceback (most recent call last)",
      "Cell \u001b[0;32mIn[2], line 1\u001b[0m\n\u001b[0;32m----> 1\u001b[0m \u001b[43msession\u001b[49m\u001b[38;5;241;43m.\u001b[39;49m\u001b[43madd_packges\u001b[49m(\u001b[38;5;124m\"\u001b[39m\u001b[38;5;124msnowflake-snowpark-python\u001b[39m\u001b[38;5;124m\"\u001b[39m,\u001b[38;5;124m\"\u001b[39m\u001b[38;5;124mpandas\u001b[39m\u001b[38;5;124m\"\u001b[39m,\u001b[38;5;124m\"\u001b[39m\u001b[38;5;124mxgboost\u001b[39m\u001b[38;5;124m\"\u001b[39m)\n\u001b[1;32m      3\u001b[0m \u001b[38;5;129m@sproc\u001b[39m\n\u001b[1;32m      4\u001b[0m \u001b[38;5;28;01mdef\u001b[39;00m \u001b[38;5;21mcompute\u001b[39m(session) \u001b[38;5;241m-\u001b[39m\u001b[38;5;241m>\u001b[39m \u001b[38;5;28mlist\u001b[39m:\n\u001b[1;32m      5\u001b[0m     \u001b[38;5;28;01mreturn\u001b[39;00m [pd\u001b[38;5;241m.\u001b[39m__version__, xgb\u001b[38;5;241m.\u001b[39m__version__]\n",
      "\u001b[0;31mAttributeError\u001b[0m: 'Session' object has no attribute 'add_packges'"
     ]
    }
   ],
   "source": [
    "session.add_packges(\"snowflake-snowpark-python\",\"pandas\",\"xgboost\")\n",
    "\n",
    "@sproc\n",
    "def compute(session) -> list:\n",
    "    return [pd.__version__, xgb.__version__]"
   ]
  },
  {
   "cell_type": "code",
   "execution_count": null,
   "metadata": {},
   "outputs": [],
   "source": []
  }
 ],
 "metadata": {
  "kernelspec": {
   "display_name": "snowpark10",
   "language": "python",
   "name": "python3"
  },
  "language_info": {
   "codemirror_mode": {
    "name": "ipython",
    "version": 3
   },
   "file_extension": ".py",
   "mimetype": "text/x-python",
   "name": "python",
   "nbconvert_exporter": "python",
   "pygments_lexer": "ipython3",
   "version": "3.10.13"
  }
 },
 "nbformat": 4,
 "nbformat_minor": 2
}
