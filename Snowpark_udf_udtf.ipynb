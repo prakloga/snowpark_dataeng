{
 "cells": [
  {
   "cell_type": "code",
   "execution_count": 16,
   "metadata": {},
   "outputs": [],
   "source": [
    "import os\n",
    "import json\n",
    "import pandas as pd\n",
    "import configparser\n",
    "from snowflake.snowpark import Session\n",
    "from copy import copy\n",
    "from snowflake.snowpark import Row\n",
    "from snowflake.snowpark.functions import col, lit, sql_expr, get, get_path, udf, udtf, table_function\n",
    "from snowflake.snowpark.types import StructType, StructField, StringType, IntegerType, DecimalType, LongType\n",
    "from snowflake.snowpark.exceptions import SnowparkJoinException, SnowparkSQLException\n",
    "from snowflake.snowpark.files import SnowflakeFile\n",
    "\n",
    "# Read snowflake credentials securely\n",
    "config = configparser.ConfigParser()\n",
    "config.read('credentials.cfg')\n",
    "\n",
    "# Create a Python dictionary (dict) containing the names and values of the parameters for connecting to Snowflake.\n",
    "#connection_parameters = dict(\n",
    "#   account   =  config['SNOWPARKAZ']['SNOWFLAKE_ACCOUNT'],\n",
    "#   user      =  config['SNOWPARKAZ']['SNOWFLAKE_USER'],\n",
    "#   password  =  config['SNOWPARKAZ']['SNOWFLAKE_PASSWORD'],\n",
    "#   role      =  config['SNOWPARKAZ']['SNOWFLAKE_ROLE'],  # optional\n",
    "#   warehouse =  config['SNOWPARKAZ']['SNOWFLAKE_WAREHOUSE'],  # optional\n",
    "#   database  =  config['SNOWPARKAZ']['SNOWFLAKE_DATABASE'],  # optional\n",
    "#   schema    =  config['SNOWPARKAZ']['SNOWFLAKE_SCHEMA'],  # optional\n",
    "#)\n",
    "\n",
    "connection_parameters = dict(\n",
    "   account   =  config['SNOWPARKAWS']['SNOWFLAKE_ACCOUNT'],\n",
    "   user      =  config['SNOWPARKAWS']['SNOWFLAKE_USER'],\n",
    "   password  =  config['SNOWPARKAWS']['SNOWFLAKE_PASSWORD'],\n",
    "   role      =  config['SNOWPARKAWS']['SNOWFLAKE_ROLE'],  # optional\n",
    "   warehouse =  config['SNOWPARKAWS']['SNOWFLAKE_WAREHOUSE'],  # optional\n",
    "   database  =  config['SNOWPARKAWS']['SNOWFLAKE_DATABASE'],  # optional\n",
    "   schema    =  config['SNOWPARKAWS']['SNOWFLAKE_SCHEMA'],  # optional\n",
    ")\n",
    "\n",
    "# Pass this dictionary to the Session.builder.configs method to return a builder object that has these connection parameters.\n",
    "# Call the create method of the builder to establish the session.\n",
    "session = Session.builder.configs(connection_parameters).create()"
   ]
  },
  {
   "cell_type": "code",
   "execution_count": null,
   "metadata": {},
   "outputs": [],
   "source": []
  },
  {
   "cell_type": "code",
   "execution_count": 2,
   "metadata": {},
   "outputs": [],
   "source": [
    "# Creating an anonymous UDF\n",
    "add_one = udf(lambda x: x+1, input_types=[IntegerType()], return_type=IntegerType())"
   ]
  },
  {
   "cell_type": "code",
   "execution_count": null,
   "metadata": {},
   "outputs": [],
   "source": []
  },
  {
   "cell_type": "code",
   "execution_count": null,
   "metadata": {},
   "outputs": [
    {
     "name": "stdout",
     "output_type": "stream",
     "text": [
      "----------------\n",
      "|\"ADD_ONE(5)\"  |\n",
      "----------------\n",
      "|6             |\n",
      "----------------\n",
      "\n"
     ]
    }
   ],
   "source": [
    "session.sql(\"select add_one(5)\").show()"
   ]
  },
  {
   "cell_type": "code",
   "execution_count": null,
   "metadata": {},
   "outputs": [],
   "source": [
    "#Creating and registring a named UDF\n",
    "# How to register a named temporary UDF\n",
    "add_one = udf(lambda x:x+1, input_types=[IntegerType()], return_type=IntegerType(), name=\"my_udf\", replace=True)"
   ]
  },
  {
   "cell_type": "code",
   "execution_count": null,
   "metadata": {},
   "outputs": [],
   "source": [
    "# How to register a named permanent UDF by setting the is_permanent argument to True\n",
    "@udf(name=\"minus_one\", is_permanent=True, stage_location=\"@sf_int_stg\", replace=True)\n",
    "def minus_one(x: int) -> int:\n",
    "    return x - 1"
   ]
  },
  {
   "cell_type": "code",
   "execution_count": null,
   "metadata": {},
   "outputs": [
    {
     "name": "stdout",
     "output_type": "stream",
     "text": [
      "-------------\n",
      "|\"A\"  |\"B\"  |\n",
      "-------------\n",
      "|1    |2    |\n",
      "|3    |4    |\n",
      "-------------\n",
      "\n",
      "----------------------------------------\n",
      "|\"MY_UDF(\"\"A\"\")\"  |\"MINUS_ONE(\"\"B\"\")\"  |\n",
      "----------------------------------------\n",
      "|4                |3                   |\n",
      "|2                |1                   |\n",
      "----------------------------------------\n",
      "\n"
     ]
    }
   ],
   "source": [
    "# Call UDF in DataFrame\n",
    "df = session.create_dataframe([[1,2],[3,4]]).to_df(\"a\",\"b\")\n",
    "df.show()\n",
    "df.select(add_one(\"a\"), minus_one(\"b\")).show()"
   ]
  },
  {
   "cell_type": "code",
   "execution_count": null,
   "metadata": {},
   "outputs": [
    {
     "name": "stdout",
     "output_type": "stream",
     "text": [
      "---------------------------------\n",
      "|\"ADD_ONE(5)\"  |\"MINUS_ONE(9)\"  |\n",
      "---------------------------------\n",
      "|6             |8               |\n",
      "---------------------------------\n",
      "\n"
     ]
    }
   ],
   "source": [
    "# Call UDF using SQL\n",
    "session.sql(\"select add_one(5), minus_one(9)\").show()"
   ]
  },
  {
   "cell_type": "code",
   "execution_count": null,
   "metadata": {},
   "outputs": [],
   "source": [
    "# Creating a UDF from a Python source file\n",
    "# Create a UDF from this function of file test_udf_file.py\n",
    "mod5_udf = session.udf.register_from_file(\n",
    "     file_path=\"test_udf_file.py\"\n",
    "    ,func_name=\"mod5\"\n",
    ")"
   ]
  },
  {
   "cell_type": "code",
   "execution_count": null,
   "metadata": {},
   "outputs": [
    {
     "name": "stdout",
     "output_type": "stream",
     "text": [
      "----------\n",
      "|\"COL1\"  |\n",
      "----------\n",
      "|3       |\n",
      "|0       |\n",
      "|2       |\n",
      "|1       |\n",
      "----------\n",
      "\n"
     ]
    }
   ],
   "source": [
    "session.range(1,8,2).select(mod5_udf(\"id\")).to_df(\"col1\").show()"
   ]
  },
  {
   "cell_type": "code",
   "execution_count": null,
   "metadata": {},
   "outputs": [
    {
     "name": "stdout",
     "output_type": "stream",
     "text": [
      "-----------------------------------------------------------------------------------------------------------\n",
      "|\"name\"                        |\"size\"  |\"md5\"                             |\"last_modified\"               |\n",
      "-----------------------------------------------------------------------------------------------------------\n",
      "|sf_int_stg/car_sales.json     |848     |d69652cd0d10f4651db31c180bd8dff6  |Fri, 8 Dec 2023 17:25:35 GMT  |\n",
      "|sf_int_stg/car_sales1.json    |656     |04c4262b096991965a9887a75393ef8d  |Sat, 9 Dec 2023 00:59:33 GMT  |\n",
      "|sf_int_stg/data1.csv          |32      |ba2e510d1d6a424a5b0da2be426dad7f  |Fri, 8 Dec 2023 15:30:23 GMT  |\n",
      "|sf_int_stg/data1.json         |80      |1a1c422f98f927bb42fdcdecab72faae  |Fri, 8 Dec 2023 15:30:23 GMT  |\n",
      "|sf_int_stg/sales.json         |320     |6019c0d9cef2959d7e6cd54ce6319904  |Fri, 8 Dec 2023 15:30:23 GMT  |\n",
      "|sf_int_stg/test_udf_file.py   |48      |5ccc824fece95f654836a6f862415576  |Sat, 9 Dec 2023 02:40:59 GMT  |\n",
      "|sf_int_stg/test_udtf_file.py  |112     |66dc3fecf586e85ab929b907c54d3620  |Sat, 9 Dec 2023 16:52:24 GMT  |\n",
      "-----------------------------------------------------------------------------------------------------------\n",
      "\n"
     ]
    }
   ],
   "source": [
    "# list stage files\n",
    "session.sql(\"ls @sf_int_stg\").show()"
   ]
  },
  {
   "cell_type": "code",
   "execution_count": null,
   "metadata": {},
   "outputs": [],
   "source": [
    "# Create a UDF from Snowflake Internal stage location\n",
    "mod5_udf = session.udf.register_from_file(\n",
    "     file_path='@sf_int_stg/test_udf_file.py'\n",
    "    ,func_name='mod5'\n",
    "    ,return_type=IntegerType()\n",
    "    ,input_types=[IntegerType()]\n",
    ")"
   ]
  },
  {
   "cell_type": "code",
   "execution_count": null,
   "metadata": {},
   "outputs": [
    {
     "name": "stdout",
     "output_type": "stream",
     "text": [
      "----------\n",
      "|\"COL1\"  |\n",
      "----------\n",
      "|1       |\n",
      "|3       |\n",
      "|0       |\n",
      "|2       |\n",
      "----------\n",
      "\n"
     ]
    }
   ],
   "source": [
    "session.range(1,8,2).select(mod5_udf(\"id\")).to_df(\"col1\").show()"
   ]
  },
  {
   "cell_type": "code",
   "execution_count": 8,
   "metadata": {},
   "outputs": [],
   "source": [
    "# Reading files with a UDF\n",
    "# Reading Dynamically specified files with SnowflakeFile class\n",
    "@udf(name='get_file_length', input_types=[StringType()], return_type=IntegerType(), packages=['snowflake-snowpark-python'], replace=True)\n",
    "def get_file_length(file_path):\n",
    "    with SnowflakeFile.open(file_path) as f:\n",
    "        s = f.read()\n",
    "    return len(s)"
   ]
  },
  {
   "cell_type": "code",
   "execution_count": 9,
   "metadata": {},
   "outputs": [
    {
     "name": "stdout",
     "output_type": "stream",
     "text": [
      "------------------------------------------------------\n",
      "|\"GET_FILE_LENGTH(BUILD_SCOPED_FILE_URL(@SF_INT_...  |\n",
      "------------------------------------------------------\n",
      "|41                                                  |\n",
      "------------------------------------------------------\n",
      "\n"
     ]
    }
   ],
   "source": [
    "# Call the UDF\n",
    "session.sql(\"select get_file_length(build_scoped_file_url(@sf_int_stg, 'test_udf_file.py'))\").show()"
   ]
  },
  {
   "cell_type": "code",
   "execution_count": 6,
   "metadata": {},
   "outputs": [],
   "source": [
    "# Defining a UDTF's input types and output schema\n",
    "schema = StructType([StructField(\"symbol\", StringType())\n",
    "                    ,StructField(\"cost\", IntegerType())\n",
    "])\n",
    "\n",
    "\n",
    "@udtf(name=\"test_udtf\", input_types=[StringType(), IntegerType(), IntegerType()], output_schema=schema, stage_location='@sf_int_stg', is_permanent=True, replace=True)\n",
    "class StockSale:\n",
    "    def process(self, symbol, quantity, price):\n",
    "        cost = quantity * price\n",
    "        yield (symbol, cost)"
   ]
  },
  {
   "cell_type": "code",
   "execution_count": null,
   "metadata": {},
   "outputs": [],
   "source": []
  },
  {
   "cell_type": "code",
   "execution_count": null,
   "metadata": {},
   "outputs": [],
   "source": []
  },
  {
   "cell_type": "code",
   "execution_count": null,
   "metadata": {},
   "outputs": [],
   "source": []
  },
  {
   "cell_type": "code",
   "execution_count": null,
   "metadata": {},
   "outputs": [],
   "source": []
  },
  {
   "cell_type": "code",
   "execution_count": null,
   "metadata": {},
   "outputs": [],
   "source": []
  },
  {
   "cell_type": "code",
   "execution_count": null,
   "metadata": {},
   "outputs": [],
   "source": []
  },
  {
   "cell_type": "code",
   "execution_count": 2,
   "metadata": {},
   "outputs": [],
   "source": [
    "# Closing a Session\n",
    "session.close()"
   ]
  }
 ],
 "metadata": {
  "kernelspec": {
   "display_name": "snowpark10",
   "language": "python",
   "name": "python3"
  },
  "language_info": {
   "codemirror_mode": {
    "name": "ipython",
    "version": 3
   },
   "file_extension": ".py",
   "mimetype": "text/x-python",
   "name": "python",
   "nbconvert_exporter": "python",
   "pygments_lexer": "ipython3",
   "version": "3.10.13"
  }
 },
 "nbformat": 4,
 "nbformat_minor": 2
}
