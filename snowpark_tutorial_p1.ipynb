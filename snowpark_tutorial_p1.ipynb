{
 "cells": [
  {
   "cell_type": "markdown",
   "metadata": {},
   "source": [
    "\n",
    "`Creating a Session for Snowpark Python`\n",
    "- https://docs.snowflake.com/en/developer-guide/snowpark/python/creating-session\n",
    "\n",
    "`Python Connector API`\n",
    "- https://docs.snowflake.com/en/developer-guide/python-connector/python-connector-api#label-snowflake-connector-methods\n",
    "\n",
    "`Account Identifiers`\n",
    "- https://docs.snowflake.com/en/user-guide/admin-account-identifier"
   ]
  },
  {
   "cell_type": "markdown",
   "metadata": {},
   "source": [
    "`Method-1`"
   ]
  },
  {
   "cell_type": "code",
   "execution_count": 9,
   "metadata": {},
   "outputs": [],
   "source": [
    "# Creating a Session\n",
    "from snowflake.snowpark import Session\n",
    "from snowflake.snowpark.functions import col\n",
    "\n",
    "# Create a Python dictionary (dict) containing the names and values of the parameters for connecting to Snowflake.\n",
    "connection_parameters = {\n",
    "   \"account\"   : \"\",\n",
    "   \"user\"      : \"\",\n",
    "   \"password\"  : \"\",\n",
    "   \"role\"      : \"SYSADMIN\",  # optional\n",
    "   \"warehouse\" : \"COMPUTE_WH\",  # optional\n",
    "   \"database\"  : \"SNOWPARK_DB\",  # optional\n",
    "   \"schema\"    : \"PUBLIC\",  # optional\n",
    " } \n",
    "\n",
    "# Pass this dictionary to the Session.builder.configs method to return a builder object that has these connection parameters.\n",
    "# Call the create method of the builder to establish the session.\n",
    "session = Session.builder.configs(connection_parameters).create()"
   ]
  },
  {
   "cell_type": "code",
   "execution_count": 10,
   "metadata": {},
   "outputs": [
    {
     "name": "stdout",
     "output_type": "stream",
     "text": [
      "----------------------------------------------------------------\n",
      "|\"PACKAGE_NAME\"  |\"VERSION\"   |\"LANGUAGE\"  |\"RUNTIME_VERSION\"  |\n",
      "----------------------------------------------------------------\n",
      "|abseil-cpp      |20200923.3  |python      |NULL               |\n",
      "|abseil-cpp      |20210324.2  |python      |NULL               |\n",
      "|abseil-cpp      |20211102.0  |python      |NULL               |\n",
      "|abseil-cpp      |20230802.0  |python      |NULL               |\n",
      "|absl-py         |0.10.0      |python      |3.8                |\n",
      "|absl-py         |1.3.0       |python      |3.11               |\n",
      "|absl-py         |1.3.0       |python      |3.8                |\n",
      "|absl-py         |1.4.0       |python      |3.11               |\n",
      "|absl-py         |1.4.0       |python      |3.8                |\n",
      "|adagio          |0.2.4       |python      |3.11               |\n",
      "----------------------------------------------------------------\n",
      "\n"
     ]
    }
   ],
   "source": [
    "table_name = \"information_schema.packages\"\n",
    "df = session.table(table_name).filter(col(\"language\")=='python')\n",
    "df.show()"
   ]
  },
  {
   "cell_type": "code",
   "execution_count": 8,
   "metadata": {},
   "outputs": [],
   "source": [
    "# Closing a Session\n",
    "session.close()"
   ]
  },
  {
   "cell_type": "markdown",
   "metadata": {},
   "source": [
    "`Method-2`\n",
    "\n",
    "`Configuration Files`\n",
    "- https://medium.com/p/2f0e726da936\n"
   ]
  },
  {
   "cell_type": "code",
   "execution_count": 1,
   "metadata": {},
   "outputs": [],
   "source": [
    "import json \n",
    "from snowflake.snowpark import Session\n",
    "from snowflake.snowpark.functions import col\n",
    "\n",
    "with open('credentials.json','r') as file:\n",
    "    # Create a Python dictionary (dict) containing the names and values of the parameters for connecting to Snowflake.\n",
    "    connection_parameters = json.load(file)\n",
    "\n",
    "# Pass this dictionary to the Session.builder.configs method to return a builder object that has these connection parameters.\n",
    "# Call the create method of the builder to establish the session.\n",
    "session = Session.builder.configs(connection_parameters).create()\n"
   ]
  },
  {
   "cell_type": "code",
   "execution_count": 2,
   "metadata": {},
   "outputs": [
    {
     "name": "stdout",
     "output_type": "stream",
     "text": [
      "----------------------------------------------------------------\n",
      "|\"PACKAGE_NAME\"  |\"VERSION\"   |\"LANGUAGE\"  |\"RUNTIME_VERSION\"  |\n",
      "----------------------------------------------------------------\n",
      "|abseil-cpp      |20200923.3  |python      |NULL               |\n",
      "|abseil-cpp      |20210324.2  |python      |NULL               |\n",
      "|abseil-cpp      |20211102.0  |python      |NULL               |\n",
      "|abseil-cpp      |20230802.0  |python      |NULL               |\n",
      "|absl-py         |0.10.0      |python      |3.8                |\n",
      "|absl-py         |1.3.0       |python      |3.11               |\n",
      "|absl-py         |1.3.0       |python      |3.8                |\n",
      "|absl-py         |1.4.0       |python      |3.11               |\n",
      "|absl-py         |1.4.0       |python      |3.8                |\n",
      "|adagio          |0.2.4       |python      |3.11               |\n",
      "----------------------------------------------------------------\n",
      "\n"
     ]
    }
   ],
   "source": [
    "table_name = \"information_schema.packages\"\n",
    "df = session.table(table_name).filter(col(\"language\")=='python')\n",
    "df.show()"
   ]
  },
  {
   "cell_type": "code",
   "execution_count": 3,
   "metadata": {},
   "outputs": [],
   "source": [
    "# Closing a Session\n",
    "session.close()"
   ]
  },
  {
   "cell_type": "markdown",
   "metadata": {},
   "source": [
    "`Method-3`\n",
    "\n",
    "`Configuration Files`\n",
    "- https://medium.com/p/2f0e726da936"
   ]
  },
  {
   "cell_type": "code",
   "execution_count": 3,
   "metadata": {},
   "outputs": [],
   "source": [
    "import configparser\n",
    "from snowflake.snowpark import Session\n",
    "from snowflake.snowpark.functions import col\n",
    "\n",
    "config = configparser.ConfigParser()\n",
    "config.read('credentials.cfg')\n",
    "\n",
    "connection_parameters = dict(\n",
    "   account   =  config['SNOWPARK']['SNOWFLAKE_ACCOUNT'],\n",
    "   user      =  config['SNOWPARK']['SNOWFLAKE_USER'],\n",
    "   password  =  config['SNOWPARK']['SNOWFLAKE_PASSWORD'],\n",
    "   role      =  config['SNOWPARK']['SNOWFLAKE_ROLE'],  # optional\n",
    "   warehouse =  config['SNOWPARK']['SNOWFLAKE_WAREHOUSE'],  # optional\n",
    "   database  =  config['SNOWPARK']['SNOWFLAKE_DATABASE'],  # optional\n",
    "   schema    =  config['SNOWPARK']['SNOWFLAKE_SCHEMA'],  # optional\n",
    ")\n",
    "\n",
    "# Pass this dictionary to the Session.builder.configs method to return a builder object that has these connection parameters.\n",
    "# Call the create method of the builder to establish the session.\n",
    "session = Session.builder.configs(connection_parameters).create()"
   ]
  },
  {
   "cell_type": "code",
   "execution_count": 5,
   "metadata": {},
   "outputs": [
    {
     "name": "stdout",
     "output_type": "stream",
     "text": [
      "----------------------------------------------------------------\n",
      "|\"PACKAGE_NAME\"  |\"VERSION\"   |\"LANGUAGE\"  |\"RUNTIME_VERSION\"  |\n",
      "----------------------------------------------------------------\n",
      "|abseil-cpp      |20200923.3  |python      |NULL               |\n",
      "|abseil-cpp      |20210324.2  |python      |NULL               |\n",
      "|abseil-cpp      |20211102.0  |python      |NULL               |\n",
      "|abseil-cpp      |20230802.0  |python      |NULL               |\n",
      "|absl-py         |0.10.0      |python      |3.8                |\n",
      "|absl-py         |1.3.0       |python      |3.11               |\n",
      "|absl-py         |1.3.0       |python      |3.8                |\n",
      "|absl-py         |1.4.0       |python      |3.11               |\n",
      "|absl-py         |1.4.0       |python      |3.8                |\n",
      "|adagio          |0.2.4       |python      |3.11               |\n",
      "----------------------------------------------------------------\n",
      "\n"
     ]
    }
   ],
   "source": [
    "table_name = \"information_schema.packages\"\n",
    "df = session.table(table_name).filter(col(\"language\")=='python')\n",
    "df.show()"
   ]
  },
  {
   "cell_type": "code",
   "execution_count": 6,
   "metadata": {},
   "outputs": [],
   "source": [
    "# Closing a Session\n",
    "session.close()"
   ]
  },
  {
   "cell_type": "markdown",
   "metadata": {},
   "source": [
    "`https://interworks.com/blog/2022/09/05/a-definitive-guide-to-snowflake-sessions-with-snowpark-for-python/`"
   ]
  },
  {
   "cell_type": "code",
   "execution_count": 2,
   "metadata": {},
   "outputs": [],
   "source": [
    "# Creating a Session\n",
    "from snowflake.snowpark import Session\n",
    "from snowflake.snowpark.functions import col\n",
    "\n",
    "# To create a Session object from an existing Python Connector connection:\n",
    "#session = Session.builder.configs({\"connection\": \"connections.azeatrial\"}).create()"
   ]
  }
 ],
 "metadata": {
  "kernelspec": {
   "display_name": "py310_env",
   "language": "python",
   "name": "python3"
  },
  "language_info": {
   "codemirror_mode": {
    "name": "ipython",
    "version": 3
   },
   "file_extension": ".py",
   "mimetype": "text/x-python",
   "name": "python",
   "nbconvert_exporter": "python",
   "pygments_lexer": "ipython3",
   "version": "3.10.13"
  }
 },
 "nbformat": 4,
 "nbformat_minor": 2
}
